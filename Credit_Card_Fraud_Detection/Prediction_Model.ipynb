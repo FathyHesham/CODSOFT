{
 "cells": [
  {
   "cell_type": "code",
   "execution_count": 1,
   "id": "ac40fb5c-e525-49aa-90d9-af5b81dc647f",
   "metadata": {},
   "outputs": [],
   "source": [
    "# Import Libraries\n",
    "import pandas as pd\n",
    "import numpy as np\n",
    "import joblib\n",
    "from datetime import datetime\n",
    "from sklearn.preprocessing import LabelEncoder"
   ]
  },
  {
   "cell_type": "code",
   "execution_count": null,
   "id": "c1318ed8-329a-403a-9102-86b31ad77565",
   "metadata": {},
   "outputs": [],
   "source": [
    "# Load the trained model\n",
    "tree_model = joblib.load(\"tree_model.pkl\")\n",
    "random_forst_model = joblib.load(\"random_forst_model.pkl\")\n",
    "xgb_model = joblib.load(\"xgboost_model.pkl\")"
   ]
  },
  {
   "cell_type": "code",
   "execution_count": 3,
   "id": "a06b8c01",
   "metadata": {},
   "outputs": [],
   "source": [
    "def get_input():\n",
    "    print(\"Enter transaction details:\")\n",
    "    transaction_data = {\n",
    "        \"trans_date_trans_time\": [input(\"Enter transaction date and time (e.g., 2024-12-17 14:30:00): \")],\n",
    "        \"category\": [input(\"Enter transaction category: \")],\n",
    "        \"amt\": [float(input(\"Enter amount: \"))],\n",
    "        \"gender\": [input(\"Enter gender (M/F): \")],\n",
    "        \"state\": [input(\"Enter State: \")],\n",
    "        \"lat\": [float(input(\"Enter latitude: \"))],\n",
    "        \"long\": [float(input(\"Enter longitude: \"))],\n",
    "        \"city_pop\": [int(input(\"Enter city population: \"))],\n",
    "        \"dob\": [input(\"Enter date of birth (e.g., 1990-01-01): \")],\n",
    "        \"merch_lat\": [float(input(\"Enter merchant latitude: \"))],\n",
    "        \"merch_long\": [float(input(\"Enter merchant longitude: \"))]\n",
    "    }\n",
    "\n",
    "    return pd.DataFrame(transaction_data)"
   ]
  },
  {
   "cell_type": "code",
   "execution_count": 4,
   "id": "643ba0d6",
   "metadata": {},
   "outputs": [],
   "source": [
    "def preprocess_data(transaction_data):\n",
    "    transaction_data[\"dob\"] = pd.to_datetime(transaction_data[\"dob\"])\n",
    "    today = datetime.today()\n",
    "    transaction_data[\"age\"] = transaction_data[\"dob\"].apply(lambda x: today.year - x.year - ((today.month, today.day) < (x.month, x.day)))\n",
    "\n",
    "    transaction_data[\"lat_distance\"] = abs(round(transaction_data[\"merch_lat\"] - transaction_data[\"lat\"], 3))\n",
    "    transaction_data[\"long_distance\"] = abs(round(transaction_data[\"merch_long\"] - transaction_data[\"long\"], 3))\n",
    "\n",
    "    transaction_data[\"trans_date_trans_time\"] = pd.to_datetime(transaction_data[\"trans_date_trans_time\"])\n",
    "    transaction_data[\"trans_month\"] = transaction_data[\"trans_date_trans_time\"].dt.month\n",
    "\n",
    "    encoder = LabelEncoder()\n",
    "    transaction_data[\"category\"] = encoder.fit_transform(transaction_data[\"category\"])\n",
    "    transaction_data[\"state\"] = encoder.fit_transform(transaction_data[\"state\"])\n",
    "    transaction_data[\"gender\"] = encoder.fit_transform(transaction_data[\"gender\"])\n",
    "    \n",
    "    selected_columns = [\n",
    "        \"category\", \"gender\", \"trans_month\", \"amt\", \"state\",\n",
    "        \"lat_distance\", \"long_distance\", \"city_pop\", \"age\"\n",
    "    ]\n",
    "    return transaction_data[selected_columns]"
   ]
  },
  {
   "cell_type": "code",
   "execution_count": 5,
   "id": "5a1ee71d",
   "metadata": {},
   "outputs": [],
   "source": [
    "def make_prediction(preprocessed_data, model_name):\n",
    "    model = joblib.load(model_name)\n",
    "    features = [\"category\", \"gender\", \"trans_month\", \"amt\", \"state\", \"lat_distance\", \"long_distance\", \"city_pop\", \"age\"]\n",
    "    predictions = model.predict(preprocessed_data[features])\n",
    "\n",
    "    return predictions"
   ]
  },
  {
   "cell_type": "code",
   "execution_count": 16,
   "id": "3d2cf43d",
   "metadata": {},
   "outputs": [
    {
     "name": "stdout",
     "output_type": "stream",
     "text": [
      "Enter transaction details:\n"
     ]
    },
    {
     "name": "stdin",
     "output_type": "stream",
     "text": [
      "Enter transaction date and time (e.g., 2024-12-17 14:30:00):  2023-12-10 01:25:02\n",
      "Enter transaction category:  Food\n",
      "Enter amount:  70.50\n",
      "Enter gender (M/F):  F\n",
      "Enter State:  CA\n",
      "Enter latitude:  23.3653\n",
      "Enter longitude:  -123.213\n",
      "Enter city population:  40000000\n",
      "Enter date of birth (e.g., 1990-01-01):  1995-12-15\n",
      "Enter merchant latitude:  54.5522\n",
      "Enter merchant longitude:  123.321\n"
     ]
    },
    {
     "name": "stdout",
     "output_type": "stream",
     "text": [
      "\n",
      "Final Output with Prediction:\n"
     ]
    }
   ],
   "source": [
    "if __name__ == \"__main__\":\n",
    "    transaction_df = get_input()\n",
    "    processed_df = preprocess_data(transaction_df)\n",
    "    model_file = \"tree_model.pkl\"\n",
    "    prediction = make_prediction(processed_df, model_file)\n",
    "    processed_df = processed_df.copy()\n",
    "    processed_df[\"prediction\"] = prediction\n",
    "    output_df = pd.DataFrame(processed_df)"
   ]
  },
  {
   "cell_type": "code",
   "execution_count": 17,
   "id": "05b599bf-3560-47b0-aede-f2395f7129a6",
   "metadata": {},
   "outputs": [
    {
     "name": "stdout",
     "output_type": "stream",
     "text": [
      "\n",
      "Final Output with Prediction:\n"
     ]
    },
    {
     "data": {
      "text/html": [
       "<div>\n",
       "<style scoped>\n",
       "    .dataframe tbody tr th:only-of-type {\n",
       "        vertical-align: middle;\n",
       "    }\n",
       "\n",
       "    .dataframe tbody tr th {\n",
       "        vertical-align: top;\n",
       "    }\n",
       "\n",
       "    .dataframe thead th {\n",
       "        text-align: right;\n",
       "    }\n",
       "</style>\n",
       "<table border=\"1\" class=\"dataframe\">\n",
       "  <thead>\n",
       "    <tr style=\"text-align: right;\">\n",
       "      <th></th>\n",
       "      <th>category</th>\n",
       "      <th>gender</th>\n",
       "      <th>trans_month</th>\n",
       "      <th>amt</th>\n",
       "      <th>state</th>\n",
       "      <th>lat_distance</th>\n",
       "      <th>long_distance</th>\n",
       "      <th>city_pop</th>\n",
       "      <th>age</th>\n",
       "      <th>prediction</th>\n",
       "    </tr>\n",
       "  </thead>\n",
       "  <tbody>\n",
       "    <tr>\n",
       "      <th>0</th>\n",
       "      <td>0</td>\n",
       "      <td>0</td>\n",
       "      <td>12</td>\n",
       "      <td>70.5</td>\n",
       "      <td>0</td>\n",
       "      <td>31.187</td>\n",
       "      <td>246.534</td>\n",
       "      <td>40000000</td>\n",
       "      <td>29</td>\n",
       "      <td>0</td>\n",
       "    </tr>\n",
       "  </tbody>\n",
       "</table>\n",
       "</div>"
      ],
      "text/plain": [
       "   category  gender  trans_month   amt  state  lat_distance  long_distance  \\\n",
       "0         0       0           12  70.5      0        31.187        246.534   \n",
       "\n",
       "   city_pop  age  prediction  \n",
       "0  40000000   29           0  "
      ]
     },
     "execution_count": 17,
     "metadata": {},
     "output_type": "execute_result"
    }
   ],
   "source": [
    "print(\"\\nFinal Output with Prediction:\")\n",
    "output_df.head()"
   ]
  }
 ],
 "metadata": {
  "kernelspec": {
   "display_name": "Python 3 (ipykernel)",
   "language": "python",
   "name": "python3"
  },
  "language_info": {
   "codemirror_mode": {
    "name": "ipython",
    "version": 3
   },
   "file_extension": ".py",
   "mimetype": "text/x-python",
   "name": "python",
   "nbconvert_exporter": "python",
   "pygments_lexer": "ipython3",
   "version": "3.12.7"
  }
 },
 "nbformat": 4,
 "nbformat_minor": 5
}
